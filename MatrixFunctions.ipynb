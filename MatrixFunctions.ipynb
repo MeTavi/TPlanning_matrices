{
 "cells": [
  {
   "cell_type": "code",
   "execution_count": 1,
   "metadata": {
    "collapsed": true
   },
   "outputs": [],
   "source": [
    "import re"
   ]
  },
  {
   "cell_type": "code",
   "execution_count": 2,
   "metadata": {
    "collapsed": true
   },
   "outputs": [],
   "source": [
    "def sort_by_list_key_func(lst):\n",
    "    '''Returns a function to be used for sorting.\n",
    "    The returned function returns an integer\n",
    "    with the index of each element in the input list,\n",
    "    if the element is found in the element being sorted.\n",
    "    Puts elemnts not founf at the beggining.\n",
    "    \n",
    "    >>> sorted('a b c A B C'.split(),\n",
    "    ...         key=sort_by_list_key_func('b c a'.split()))\n",
    "    ['A', 'B', 'C', 'b', 'c', 'a']\n",
    "    \n",
    "    '''\n",
    "    lst_re = re.compile('({})'.format('|'.join(lst)))\n",
    "    def sort_func(s):\n",
    "        'Sorting function'\n",
    "        try:\n",
    "            return lst.index(lst_re.search(s).group())\n",
    "        except:\n",
    "            return -1\n",
    "    return sort_func"
   ]
  },
  {
   "cell_type": "code",
   "execution_count": 3,
   "metadata": {
    "collapsed": true
   },
   "outputs": [],
   "source": [
    "def sort_df_by_lists(df, lists):\n",
    "    '''Returns the input dataframe with columns sorted by the appearance of\n",
    "    each element of each list in input lists in the column names,\n",
    "    by order of appearance in the input lists\n",
    "    \n",
    "    >>> list(sort_df_by_lists(\n",
    "    ...         pd.DataFrame(columns=['A1', 'A2', 'A3', 'B1', 'B2', 'B3']),\n",
    "    ...         [['B', 'A'],['3', '1', '2']]\n",
    "    ...         ).columns)\n",
    "    ['B3', 'A3', 'B1', 'A1', 'B2', 'A2']\n",
    "    \n",
    "    '''\n",
    "    ## Sort DataFrame's columns\n",
    "    cols = list(df.columns)\n",
    "    for lst in lists:\n",
    "        cols.sort(key=sort_by_list_key_func(lst))\n",
    "    return df[cols] #sorted! "
   ]
  },
  {
   "cell_type": "code",
   "execution_count": 4,
   "metadata": {
    "collapsed": true
   },
   "outputs": [],
   "source": [
    "def PairWiseColumnGroups(dflist):\n",
    "    '''generator yields dataframes formed of pair-wise concatenation\n",
    "    of columns from each df in the input dataframe list.'''\n",
    "    max_cols = max([len(df.columns) for df in dflist])\n",
    "    for i in range(max_cols):\n",
    "        try:\n",
    "            yield pd.concat([df.iloc[:,i] for df in dflist], axis=1)\n",
    "        except IndexError:\n",
    "            raise IndexError('Input dataframes have different number of columns.')"
   ]
  }
 ],
 "metadata": {
  "anaconda-cloud": {},
  "kernelspec": {
   "display_name": "Python [py35]",
   "language": "python",
   "name": "Python [py35]"
  },
  "language_info": {
   "codemirror_mode": {
    "name": "ipython",
    "version": 3
   },
   "file_extension": ".py",
   "mimetype": "text/x-python",
   "name": "python",
   "nbconvert_exporter": "python",
   "pygments_lexer": "ipython3",
   "version": "3.5.1"
  }
 },
 "nbformat": 4,
 "nbformat_minor": 0
}
