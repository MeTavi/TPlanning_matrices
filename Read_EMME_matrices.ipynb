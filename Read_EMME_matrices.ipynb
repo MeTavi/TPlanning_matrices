{
 "cells": [
  {
   "cell_type": "code",
   "execution_count": 1,
   "metadata": {
    "collapsed": true
   },
   "outputs": [],
   "source": [
    "## JAC 31/07/2016\n",
    "## This will read trip ends in EMME format and convert to csv\n",
    "## The specified files for each matrix will be read,\n",
    "## and a single csv with all the Trp-Ends will be produced."
   ]
  },
  {
   "cell_type": "code",
   "execution_count": 2,
   "metadata": {
    "collapsed": false
   },
   "outputs": [],
   "source": [
    "import re\n",
    "import glob\n",
    "import pandas as pd\n",
    "import os"
   ]
  },
  {
   "cell_type": "code",
   "execution_count": 4,
   "metadata": {
    "collapsed": true
   },
   "outputs": [],
   "source": [
    "## Prepare sorting functions\n",
    "def sort_by_list_key_func(lst):\n",
    "    '''Returns a function to be used for sorting.\n",
    "    The returned function returns an integer\n",
    "    with the index of each element in the input list,\n",
    "    if the element is found in the element being sorted.\n",
    "    Puts elemnts not founf at the beggining.\n",
    "    \n",
    "    >>> sorted('a b c A B C'.split(),\n",
    "    ...         key=sort_by_list_key_func('b c a'.split()))\n",
    "    ['A', 'B', 'C', 'b', 'c', 'a']\n",
    "    \n",
    "    '''\n",
    "    lst_re = re.compile('({})'.format('|'.join(lst)))\n",
    "    def sort_func(s):\n",
    "        'Sorting function'\n",
    "        try:\n",
    "            return lst.index(lst_re.search(s).group())\n",
    "        except:\n",
    "            return -1\n",
    "    return sort_func"
   ]
  },
  {
   "cell_type": "code",
   "execution_count": 5,
   "metadata": {
    "collapsed": true
   },
   "outputs": [],
   "source": [
    "def sort_df_by_lists(df, lists):\n",
    "    '''Returns the input dataframe with columns sorted by the appearance of\n",
    "    each element of each list in input lists in the column names,\n",
    "    by order of appearance in the input lists\n",
    "    \n",
    "    >>> list(sort_df_by_lists(\n",
    "    ...         pd.DataFrame(columns=['A1', 'A2', 'A3', 'B1', 'B2', 'B3']),\n",
    "    ...         [['B', 'A'],['3', '1', '2']]\n",
    "    ...         ).columns)\n",
    "    ['B3', 'A3', 'B1', 'A1', 'B2', 'A2']\n",
    "    \n",
    "    '''\n",
    "    ## Sort DataFrame's columns\n",
    "    cols = list(df.columns)\n",
    "    for lst in lists:\n",
    "        cols.sort(key=sort_by_list_key_func(lst))\n",
    "    return df[cols] #sorted! "
   ]
  },
  {
   "cell_type": "code",
   "execution_count": 6,
   "metadata": {
    "collapsed": true
   },
   "outputs": [],
   "source": [
    "def ReadEMME_matrices(sFiles):\n",
    "    '''Reads all EMME matrix files specified in sFiles list\n",
    "    and returns a DataFrame, with the files combined:\n",
    "    one column for each EMME matrix read.\n",
    "    Note: EMME files can contain several matrices per file.\n",
    "    \n",
    "    Assumes one single value per row in the EMME files.\n",
    "    '''\n",
    "\n",
    "    EMMErecord_cols = {\n",
    "        'md': ['zone', '_TD'],\n",
    "        'mo': ['zone', '_TO'],\n",
    "        'mf': ['O', 'D', '']\n",
    "        } #TODO: remove difference by TO /TD / T ??\n",
    "    \n",
    "    ## RegEx to read EMME format:\n",
    "    mat_re = re.compile(r'a matrix\\s*=\\s*(mo|md|mf|ms)(\\d+)\\s+(\\w+?)\\s+(-?\\d+)\\s+(.+?)\\n(.*)\\n(?=a matrix|d matrix|\\Z|\\s*\\n)',\n",
    "                       re.DOTALL | re.MULTILINE)\n",
    "    # re groups:\n",
    "    # mat_type, mat_num, mat_name, mat_default, mat_desc, mat_data\n",
    "\n",
    "    EMMErecord_re = {\n",
    "        'md': re.compile(r'\\s*all\\s+(\\d+)\\s*:\\s*(-?\\.?\\d+\\.?\\d*)\\n'),\n",
    "        'mo': re.compile(r'\\s*(\\d+)\\s+all\\s*:\\s*(-?\\.?\\d+\\.?\\d*)\\n'),\n",
    "        'mf': re.compile(r'\\s*(\\d+)\\s+(\\d+)\\s*:\\s*(-?\\.?\\d+\\.?\\d*)\\n')\n",
    "        } #TODO: implement ms\n",
    "    \n",
    "    ## Read Data\n",
    "    #print('Reading data ...\\n')\n",
    "    data = {}\n",
    "    for filep in sFiles:\n",
    "        file = os.path.basename(filep)\n",
    "        fn, fext = os.path.splitext(file)\n",
    "        #print('\\t',fn)\n",
    "        data[fn] = {}\n",
    "        with open(filep, 'r') as f:\n",
    "            fcontent = f.read()\n",
    "            #each source file might contain several matrices\n",
    "            mats = mat_re.findall(fcontent)\n",
    "            for mat in mats:\n",
    "                mat_type, mat_num, mat_name, mat_default, mat_desc, mat_data = mat\n",
    "                mat_rows = EMMErecord_re[mat_type].findall(mat_data)\n",
    "                data[fn][mat_name] = dict(zip(\n",
    "                   'mat_type, mat_num, mat_default, mat_desc, mat_rows'.split(', '),\n",
    "                   [mat_type, mat_num, mat_default, mat_desc, mat_rows]))\n",
    "    \n",
    "    ## Convert to DataFrame\n",
    "    data_df = pd.DataFrame()\n",
    "    for fn in data:\n",
    "        for mat in data[fn]:\n",
    "            mat_data = data[fn][mat]\n",
    "\n",
    "            #convert rows into df, setting column names and index\n",
    "            df_cols = EMMErecord_cols[mat_data['mat_type']]\n",
    "            df_idx_cols = df_cols[:-1]\n",
    "            df_data_cols = df_cols[-1]\n",
    "            # RELEASE THE PANDAS !!!   \\,,/(>_<)\\,,/\n",
    "            df = pd.DataFrame.from_records(mat_data['mat_rows'],\n",
    "                                           columns=df_cols,\n",
    "                                           index=df_idx_cols)\n",
    "\n",
    "            #this avoids repeating names:\n",
    "            mat_id = '{}{}'.format(fn, df_data_cols)\n",
    "            data_df[mat_id] = df[df_data_cols]           \n",
    "\n",
    "    return data_df"
   ]
  },
  {
   "cell_type": "code",
   "execution_count": 7,
   "metadata": {
    "collapsed": false
   },
   "outputs": [
    {
     "name": "stdout",
     "output_type": "stream",
     "text": [
      "\n",
      "Reading data ...\n",
      "\n",
      "\n",
      "Writting data ...\n",
      "\n",
      "Adj_Syn_TE\n"
     ]
    }
   ],
   "source": [
    "## Export as csv\n",
    "if __name__ == '__main__':\n",
    "    # Test examples in docstrings\n",
    "    import doctest\n",
    "    doctest.testmod()\n",
    "    \n",
    "    \n",
    "    ## HARDCODED\n",
    "    ## Order in these lists matter, as they will be used for sorting\n",
    "    TPs = 'AM IP PM'.split()\n",
    "\n",
    "    DSegs = ['{}'.format(x+1) for x in range(7)]\n",
    "    DSegs.extend('LGV HGV'.split())\n",
    "\n",
    "    TEs = 'Or Ds'.split()\n",
    "\n",
    "    # Specify the file name patter for the files that form each matrix:\n",
    "    sFilesPatterns = {'Adj_Syn_TE': [r'..\\Adj_Syn_TE\\TE_*_Adj_*_??.txt']}\n",
    "    \n",
    "    \n",
    "    print('\\nReading data ...\\n')\n",
    "    sFiles_dict = {}\n",
    "    for matrix, PatternList in sFilesPatterns.items():\n",
    "        sFiles_dict[matrix] = []\n",
    "        for pattern in PatternList:\n",
    "            sFiles = glob.glob(pattern)\n",
    "            sFiles_dict[matrix].extend(sFiles)\n",
    "\n",
    "    sorting_lists = [DSegs, TPs, TEs]\n",
    "\n",
    "    data_df = {k: ReadEMME_matrices(files)\n",
    "                for k,files in sFiles_dict.items()} \n",
    "    \n",
    "    data_df = {k: sort_df_by_lists(df, sorting_lists)\n",
    "                for k,df in data_df.items()} \n",
    "\n",
    "    print('\\nWritting data ...\\n')\n",
    "    for matrix in data_df:\n",
    "        print(matrix)\n",
    "        data_df[matrix].to_csv('{}.csv'.format(matrix))"
   ]
  }
 ],
 "metadata": {
  "anaconda-cloud": {},
  "kernelspec": {
   "display_name": "Python [py35]",
   "language": "python",
   "name": "Python [py35]"
  },
  "language_info": {
   "codemirror_mode": {
    "name": "ipython",
    "version": 3
   },
   "file_extension": ".py",
   "mimetype": "text/x-python",
   "name": "python",
   "nbconvert_exporter": "python",
   "pygments_lexer": "ipython3",
   "version": "3.5.1"
  }
 },
 "nbformat": 4,
 "nbformat_minor": 0
}
